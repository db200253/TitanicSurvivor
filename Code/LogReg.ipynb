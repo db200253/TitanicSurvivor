{
 "cells": [
  {
   "cell_type": "code",
   "execution_count": 1,
   "id": "2e5dd64a",
   "metadata": {},
   "outputs": [],
   "source": [
    "# loading datasets\n",
    "%reload_ext autoreload\n",
    "%autoreload 2\n",
    "DATA_PATH = '../data/train.csv'\n",
    "DATA_PREDICT = '../data/test.csv'"
   ]
  },
  {
   "cell_type": "code",
   "execution_count": 2,
   "id": "13758045",
   "metadata": {},
   "outputs": [],
   "source": [
    "# imports\n",
    "import pandas as pd\n",
    "from sklearn.impute import SimpleImputer\n",
    "from sklearn.linear_model import LogisticRegression\n",
    "from sklearn.model_selection import train_test_split\n",
    "from sklearn.preprocessing import LabelEncoder\n",
    "from sklearn.preprocessing import StandardScaler"
   ]
  },
  {
   "cell_type": "code",
   "execution_count": 3,
   "id": "9f7195bf",
   "metadata": {},
   "outputs": [],
   "source": [
    "# read datas\n",
    "data = pd.read_csv(DATA_PATH)\n",
    "data_test = pd.read_csv(DATA_PREDICT)"
   ]
  },
  {
   "cell_type": "code",
   "execution_count": 4,
   "id": "19c16f4c",
   "metadata": {},
   "outputs": [],
   "source": [
    "# extract datas from files\n",
    "label_encoder = LabelEncoder()\n",
    "cible = data['Survived']\n",
    "columns = ['Pclass', 'Sex', 'Age','SibSp','Parch','Fare','Embarked']\n",
    "for c in columns :\n",
    "    data[c] = label_encoder.fit_transform(data[c])\n",
    "    data_test[c] = label_encoder.fit_transform(data_test[c])\n",
    "data = data[columns]\n",
    "data_test = data_test[columns]"
   ]
  },
  {
   "cell_type": "code",
   "execution_count": 5,
   "id": "d6278e81",
   "metadata": {},
   "outputs": [],
   "source": [
    "# Scaling datas\n",
    "scaler = StandardScaler()\n",
    "data = scaler.fit_transform(data)\n",
    "data_test = scaler.fit_transform(data_test)"
   ]
  },
  {
   "cell_type": "code",
   "execution_count": 6,
   "id": "d260885a",
   "metadata": {},
   "outputs": [],
   "source": [
    "# training the model and predict\n",
    "lr = LogisticRegression()\n",
    "lr.fit(data, cible)\n",
    "pred = lr.predict(data_test)"
   ]
  },
  {
   "cell_type": "code",
   "execution_count": 7,
   "id": "d36a349b",
   "metadata": {},
   "outputs": [
    {
     "name": "stdout",
     "output_type": "stream",
     "text": [
      "Précision entraînement : 0.80\n"
     ]
    }
   ],
   "source": [
    "# accuracy\n",
    "accuracy = lr.score(data, cible)\n",
    "print(\"Précision entraînement : {:.2f}\".format(accuracy))"
   ]
  },
  {
   "cell_type": "code",
   "execution_count": 8,
   "id": "df7902a4",
   "metadata": {},
   "outputs": [],
   "source": [
    "# create a dataframe \n",
    "datas = {'Index' : range(len(pred)),\n",
    "        'Survived' : pred}\n",
    "df = pd.DataFrame(datas)"
   ]
  },
  {
   "cell_type": "code",
   "execution_count": 9,
   "id": "72ddd930",
   "metadata": {},
   "outputs": [],
   "source": [
    "# import datas in a csv file\n",
    "df.to_csv('../predictions.csv', index=False)"
   ]
  }
 ],
 "metadata": {
  "kernelspec": {
   "display_name": "Python 3 (ipykernel)",
   "language": "python",
   "name": "python3"
  },
  "language_info": {
   "codemirror_mode": {
    "name": "ipython",
    "version": 3
   },
   "file_extension": ".py",
   "mimetype": "text/x-python",
   "name": "python",
   "nbconvert_exporter": "python",
   "pygments_lexer": "ipython3",
   "version": "3.9.12"
  }
 },
 "nbformat": 4,
 "nbformat_minor": 5
}
